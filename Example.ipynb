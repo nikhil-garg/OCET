{
 "cells": [
  {
   "cell_type": "markdown",
   "metadata": {},
   "source": [
    "# Import the libraries"
   ]
  },
  {
   "cell_type": "code",
   "execution_count": 14,
   "metadata": {},
   "outputs": [],
   "source": [
    "import numpy as np\n",
    "import pandas as pd\n",
    "import os\n",
    "import matplotlib.pyplot as plt\n",
    "from sklearn.model_selection import train_test_split\n",
    "from sklearn import svm\n",
    "from sklearn import metrics\n",
    "from sklearn.metrics import plot_confusion_matrix\n",
    "# from brian2 import TimedArray\n",
    "#Libraries for ANN\n",
    "import os\n",
    "import sys\n",
    "import numpy as np\n",
    "import math\n",
    "import torch\n",
    "import torch.nn as nn\n",
    "import torch.nn.functional as F\n",
    "import torch.optim as optim\n",
    "import torch.utils.data as data_utils\n",
    "import torch.nn.init as init\n",
    "from torch.utils.data import Dataset, DataLoader\n",
    "import torchvision\n",
    "from torch.nn import Linear, ReLU, CrossEntropyLoss, Sequential, Conv2d,Conv1d,MaxPool1d, MaxPool2d, Module, Softmax, BatchNorm2d, Dropout\n",
    "from torch.autograd import Variable\n",
    "import matplotlib.pyplot as plt\n",
    "import scipy as sc\n",
    "from scipy.signal import butter, lfilter, welch, square  #for signal filtering\n",
    "import pandas as pd\n",
    "import neo\n",
    "from scipy.spatial import distance\n",
    "from sklearn import preprocessing\n",
    "import torch.optim as optim"
   ]
  },
  {
   "cell_type": "markdown",
   "metadata": {},
   "source": [
    "# Load the data"
   ]
  },
  {
   "cell_type": "code",
   "execution_count": 16,
   "metadata": {},
   "outputs": [],
   "source": [
    "cwd = str(os.getcwd()) #Get the current working directory\n",
    "path_of_recordings = cwd + '/recordings/' #Path where all the recordings are stored\n",
    "raw_labels = np.genfromtxt(os.path.join(path_of_recordings, 'filename_and_labels.txt'), dtype=np.str)#Load the file containing label corresponding to file name\n",
    "\n",
    "\n",
    "X = [] #X is a list with each element a recording\n",
    "Y = [] #Y is a list with each element being label of that recording\n",
    "\n",
    "indexes = np.array((0,1, 2, 3, 5, 7,8, 10, 11, 14, 15, 16, 17,18, 19, 20, 22, 23, 24, 25, 29, 30 ))\n",
    "#I have added 0 as it's time stamp\n",
    "\n",
    "for i in range(raw_labels.shape[0]):\n",
    "    file_name = raw_labels[i,0]\n",
    "    label = raw_labels[i,1]\n",
    "    path_of_file = os.path.join(path_of_recordings, file_name) + '.txt'\n",
    "    raw_data = np.loadtxt(path_of_file)#Load the raw data\n",
    "    X.append(raw_data[indexes,1500:25500])#Append the loaded array to the list. Note that we just take selected indexes\n",
    "    #[300:2400] : Because we trim 50ms from start and end\n",
    "    Y.append(int(label))#Append the label"
   ]
  },
  {
   "cell_type": "code",
   "execution_count": 17,
   "metadata": {},
   "outputs": [
    {
     "data": {
      "text/plain": [
       "array([['0Trial_210712_103938', '0'],\n",
       "       ['100Trial_210712_114923', '1'],\n",
       "       ['101Trial_210712_115031', '1'],\n",
       "       ['102Trial_210712_115139', '1'],\n",
       "       ['103Trial_210712_115238', '1'],\n",
       "       ['104Trial_210712_115339', '1'],\n",
       "       ['105Trial_210712_151901', '1'],\n",
       "       ['106Trial_210712_152020', '1'],\n",
       "       ['107Trial_210712_152203', '1'],\n",
       "       ['108Trial_210712_152340', '1'],\n",
       "       ['109Trial_210712_152501', '1'],\n",
       "       ['110Trial_210712_152610', '1'],\n",
       "       ['112Trial_210712_152815', '1'],\n",
       "       ['113Trial_210712_152910', '1'],\n",
       "       ['114Trial_210712_153007', '1'],\n",
       "       ['115Trial_210712_153059', '1'],\n",
       "       ['116Trial_210712_153154', '1'],\n",
       "       ['117Trial_210712_153315', '1'],\n",
       "       ['118Trial_210712_153429', '1'],\n",
       "       ['119TRial_210712_153538', '1'],\n",
       "       ['120Trial_210712_153658', '1'],\n",
       "       ['121Trial_210712_154136', '1'],\n",
       "       ['122Trial_210712_154259', '1'],\n",
       "       ['123Trial_210712_154449', '1'],\n",
       "       ['124Trial_210712_154824', '1'],\n",
       "       ['125Trial_210712_154937', '1'],\n",
       "       ['126Trial_210712_155044', '1'],\n",
       "       ['127Trial_210712_155150', '1'],\n",
       "       ['128Trial_210712_155305', '1'],\n",
       "       ['129Trial_210712_155422', '1'],\n",
       "       ['130Trial_210712_155530', '1'],\n",
       "       ['131Trial_210712_155658', '1'],\n",
       "       ['132Trial_210712_155809', '1'],\n",
       "       ['133Trial_210712_155918', '1'],\n",
       "       ['134Trial_210712_160039', '1'],\n",
       "       ['135Trial_210712_163716', '1'],\n",
       "       ['136Trial_210712_160219', '1'],\n",
       "       ['137Trial_210712_160314', '1'],\n",
       "       ['138Trial_210712_160411', '1'],\n",
       "       ['139Trial_210712_160454', '1'],\n",
       "       ['140Trial_210712_160542', '1'],\n",
       "       ['141Trial_210712_160625', '1'],\n",
       "       ['142Trial_210712_160913', '1'],\n",
       "       ['143Trial_210712_161020', '1'],\n",
       "       ['144Trial_210712_161114', '1'],\n",
       "       ['145Trial_210712_161159', '1'],\n",
       "       ['146Trial_210712_161251', '1'],\n",
       "       ['147Trial_210712_161338', '1'],\n",
       "       ['148Trial_210712_161433', '1'],\n",
       "       ['149Trial_210712_161535', '1'],\n",
       "       ['150Trial_210712_161632', '1'],\n",
       "       ['151Trial_210712_161733', '1'],\n",
       "       ['151Trial2ns_210712_161747', '1'],\n",
       "       ['152Trial_210712_161824', '1'],\n",
       "       ['153Trial_210712_161940', '1'],\n",
       "       ['154Trial_210712_162040', '1'],\n",
       "       ['155Trial_210712_162133', '1'],\n",
       "       ['156Trial_210712_162216', '1'],\n",
       "       ['157Trial_210712_162449', '1'],\n",
       "       ['157Trial_210712_162511', '1'],\n",
       "       ['158Trial_210712_162548', '1'],\n",
       "       ['159Trial_210712_162641', '1'],\n",
       "       ['160Trial_210712_162742', '1'],\n",
       "       ['161Trial_210712_162910', '1'],\n",
       "       ['16Trial_210712_105410', '0'],\n",
       "       ['17Trial_210712_105524', '0'],\n",
       "       ['18Trial_210712_105644', '0'],\n",
       "       ['18Trial_210712_105655', '0'],\n",
       "       ['1Trial_210712_103752', '0'],\n",
       "       ['200Trial_210712_163027', '2'],\n",
       "       ['201Trial_210712_163131', '2'],\n",
       "       ['202Trial_210712_163229', '2'],\n",
       "       ['203Trial_210712_163330', '2'],\n",
       "       ['204Trial_210712_163415', '2'],\n",
       "       ['206Trial_210712_163807', '2'],\n",
       "       ['207Trial_210712_163851', '2'],\n",
       "       ['208Trial_210712_163939', '2'],\n",
       "       ['210Trial_210712_164130', '2'],\n",
       "       ['211Trial_210712_164219', '2'],\n",
       "       ['212Trial_210712_164309', '2'],\n",
       "       ['213Trial_210712_164352', '2'],\n",
       "       ['214Trial_210712_164445', '2'],\n",
       "       ['216Trial_210712_164613', '2'],\n",
       "       ['217Trial_210712_164703', '2'],\n",
       "       ['218Trial_210712_164804', '2'],\n",
       "       ['219Trial_210712_164851', '2'],\n",
       "       ['220Trial_210712_164934', '2'],\n",
       "       ['221Trial_210712_165014', '2'],\n",
       "       ['222Trial_210712_165051', '2'],\n",
       "       ['223Trial_210712_165130', '2'],\n",
       "       ['224Trial_210712_165207', '2'],\n",
       "       ['224Trial_210712_165247', '2'],\n",
       "       ['225Trial_210712_165330', '2'],\n",
       "       ['227Trial_210712_165523', '2'],\n",
       "       ['228Trial_210712_165556', '2'],\n",
       "       ['229Trial_210712_165651', '2'],\n",
       "       ['230Trial_210712_165749', '2'],\n",
       "       ['231Trial_210712_165837', '2'],\n",
       "       ['232Trial_210712_165919', '2'],\n",
       "       ['233Trial_210712_170009', '2'],\n",
       "       ['234Trial_210712_170053', '2'],\n",
       "       ['235Trial_210712_170142', '2'],\n",
       "       ['236Trial_210712_170225', '2'],\n",
       "       ['237Trial_210712_170307', '2'],\n",
       "       ['238Trial_210712_170346', '2'],\n",
       "       ['239Trial_210712_170435', '2'],\n",
       "       ['23Trial_210712_105945', '2'],\n",
       "       ['240Trial_210712_170518', '2'],\n",
       "       ['241Trial_210712_170612', '2'],\n",
       "       ['242Trial_210712_170651', '2'],\n",
       "       ['243Trial_210712_170740', '2'],\n",
       "       ['244Trial_210712_170823', '2'],\n",
       "       ['245Trial_210712_170902', '2'],\n",
       "       ['246Trial_210712_171047', '2'],\n",
       "       ['247Trial_210712_171217', '2'],\n",
       "       ['248Trial_210712_171304', '2'],\n",
       "       ['249Trial_210712_171434', '2'],\n",
       "       ['24Trial_210712_110109', '0'],\n",
       "       ['26Trial_210712_110310', '0'],\n",
       "       ['28Trial_210712_110823', '0'],\n",
       "       ['29Trial_210712_110936', '0'],\n",
       "       ['2Trial_210712_104050', '0'],\n",
       "       ['30Trial_210712_111034', '0'],\n",
       "       ['32Trial_210712_111223', '0'],\n",
       "       ['33Trial_210712_111330', '0'],\n",
       "       ['34Trial_210712_111433', '0'],\n",
       "       ['35Trial_210712_111551', '0'],\n",
       "       ['37Trial_210712_111800', '0'],\n",
       "       ['38Trial_210712_111904', '0'],\n",
       "       ['39Trial_210712_112100', '0'],\n",
       "       ['3Trial_210712_104206', '0'],\n",
       "       ['40Trial_210712_112218', '0'],\n",
       "       ['41Trial_210712_112314', '0'],\n",
       "       ['42Trial_210712_112413', '0'],\n",
       "       ['43Trial_210712_112506', '0'],\n",
       "       ['44Trial_210712_112620', '0'],\n",
       "       ['45Trial_210712_112729', '0'],\n",
       "       ['47Trial_210712_112919', '0'],\n",
       "       ['48Trial_210712_113012', '0'],\n",
       "       ['49Trial_210712_113108', '0'],\n",
       "       ['4Trial_210712_104332', '0'],\n",
       "       ['50Trial_210712_113201', '0'],\n",
       "       ['51Trial_210712_113255', '0'],\n",
       "       ['52Trial_210712_113350', '0'],\n",
       "       ['53Trial_210712_113504', '0'],\n",
       "       ['54Trial_210712_113609', '0'],\n",
       "       ['55Trial_210712_113710', '0'],\n",
       "       ['56Trial_210712_113807', '0'],\n",
       "       ['57Trial_210712_113908', '0'],\n",
       "       ['58Trial_210712_114007', '0'],\n",
       "       ['59Trial_210712_114106', '0'],\n",
       "       ['5Trial_210712_104431', '0'],\n",
       "       ['60Trial_210712_114247', '0'],\n",
       "       ['61Trial_210712_114351', '0'],\n",
       "       ['62Trial_210712_114459', '0'],\n",
       "       ['63Trial_210712_114552', '0'],\n",
       "       ['64Trial_210712_114651', '0'],\n",
       "       ['65Trial_210712_114749', '0'],\n",
       "       ['6Trial_210712_104539', '0'],\n",
       "       ['7Trial_210712_104646', '0'],\n",
       "       ['9Trial_210712_104801', '0']], dtype='<U25')"
      ]
     },
     "execution_count": 17,
     "metadata": {},
     "output_type": "execute_result"
    }
   ],
   "source": [
    "raw_labels"
   ]
  },
  {
   "cell_type": "markdown",
   "metadata": {},
   "source": [
    "# Plot a sample segment"
   ]
  },
  {
   "cell_type": "code",
   "execution_count": 18,
   "metadata": {},
   "outputs": [
    {
     "name": "stdout",
     "output_type": "stream",
     "text": [
      "(24000,)\n",
      "(21, 24000)\n"
     ]
    },
    {
     "data": {
      "text/plain": [
       "[<matplotlib.lines.Line2D at 0x7fe6a5e25850>]"
      ]
     },
     "execution_count": 18,
     "metadata": {},
     "output_type": "execute_result"
    },
    {
     "data": {
      "image/png": "[encoded data removed]",
      "text/plain": [
       "<Figure size 432x288 with 1 Axes>"
      ]
     },
     "metadata": {
      "needs_background": "light"
     },
     "output_type": "display_data"
    }
   ],
   "source": [
    "sample_data = X[0]#Load the first element of list\n",
    "time_stamp = sample_data[0,:]#Slice off the time stamps\n",
    "data = sample_data[1:,:]#Slice the data\n",
    "print(time_stamp.shape)\n",
    "print(data.shape)\n",
    "sample_segment = data[1,:]\n",
    "plt.plot(time_stamp, sample_segment)"
   ]
  },
  {
   "cell_type": "markdown",
   "metadata": {},
   "source": [
    "# Split the data into train and test "
   ]
  },
  {
   "cell_type": "code",
   "execution_count": 19,
   "metadata": {},
   "outputs": [],
   "source": [
    "X_train, X_test, Y_train, Y_test = train_test_split(X, Y,\n",
    "                                                    stratify=Y, \n",
    "                                                    test_size=0.33)\n",
    "#We use stratification to preserve class balance in train and test"
   ]
  },
  {
   "cell_type": "markdown",
   "metadata": {},
   "source": [
    "# Slice the data in segments of 200ms.\n",
    "### We now also drop the time stamp as that's not useful for classification"
   ]
  },
  {
   "cell_type": "code",
   "execution_count": 20,
   "metadata": {},
   "outputs": [],
   "source": [
    "X_train_segmented = []\n",
    "Y_train_segmented = []\n",
    "X_train_segmented_avereged = []\n",
    "X_train_segmented_3D = []\n",
    "\n",
    "\n",
    "for i in range(len(Y_train)):\n",
    "    data = X_train[i]\n",
    "    data = data[1:,:]#Drop the time stamps\n",
    "    #24000 time points corresponds to 800 ms. Hence, 6000 time points corresponds to 200 ms\n",
    "    for j in range(4):\n",
    "        #The 2D X_train_segmented is flatten to 1D. Final shape being (1,nbChannel*nbTimepoints)\n",
    "        X_train_segmented.append(data[:,j*6000:(j+1)*6000].flatten())\n",
    "        \n",
    "        #The 2D X_train_segmented is avereged along time axis. Final shape being (1,nbChannel)\n",
    "        X_train_segmented_avereged.append(np.mean(data[:,j*6000:(j+1)*6000], axis =1))\n",
    "        Y_train_segmented.append(Y_train[i])\n",
    "        #X_train_segmented_3D is the 3D version of form (1, nbChannels, nbTimepoints)\n",
    "        X_train_segmented_3D.append(data[:,j*6000:(j+1)*6000])\n",
    "        \n",
    "X_test_segmented = []\n",
    "Y_test_segmented = []\n",
    "X_test_segmented_avereged = []\n",
    "X_test_segmented_3D = []\n",
    "\n",
    "for i in range(len(Y_test)):\n",
    "    data = X_test[i]\n",
    "    data = data[1:,:]#Drop the time stamps\n",
    "    #24000 time points corresponds to 800 ms. Hence, 6000 time points corresponds to 200 ms\n",
    "    for j in range(4):\n",
    "        X_test_segmented.append(data[:,j*6000:(j+1)*6000].flatten())\n",
    "        X_test_segmented_avereged.append(np.mean(data[:,j*6000:(j+1)*6000], axis =1))\n",
    "        Y_test_segmented.append(Y_test[i])\n",
    "        X_test_segmented_3D.append(data[:,j*6000:(j+1)*6000])\n",
    "\n",
    "#Save the data for future use\n",
    "cwd = str(os.getcwd())\n",
    "file_directory =cwd + '/recordings/'\n",
    "filename = '/EMG_dataset_OCET.npz'\n",
    "file_path = file_directory+filename\n",
    "np.savez_compressed(file_path, \n",
    "                    X_train_segmented=X_train_segmented,\n",
    "                    Y_train_segmented=Y_train_segmented,\n",
    "                    X_train_segmented_avereged=X_train_segmented_avereged,\n",
    "                    X_test_segmented = X_test_segmented,\n",
    "                    Y_test_segmented = Y_test_segmented,\n",
    "                    X_test_segmented_avereged=X_test_segmented_avereged,\n",
    "                    X_train_segmented_3D=X_train_segmented_3D,\n",
    "                    X_test_segmented_3D=X_test_segmented_3D\n",
    "                   )\n"
   ]
  },
  {
   "cell_type": "markdown",
   "metadata": {},
   "source": [
    "# Fit a classifier and evaluate performance"
   ]
  },
  {
   "cell_type": "markdown",
   "metadata": {},
   "source": [
    "## Fit with entire data of dimension (1,nbChannel*nbTimepoints)"
   ]
  },
  {
   "cell_type": "code",
   "execution_count": 21,
   "metadata": {},
   "outputs": [
    {
     "name": "stdout",
     "output_type": "stream",
     "text": [
      "Accuracy: 0.48148148148148145\n"
     ]
    }
   ],
   "source": [
    "#Create a svm Classifier\n",
    "clf = svm.SVC(kernel='rbf') # Linear Kernel\n",
    "\n",
    "#Train the model using the training sets\n",
    "clf.fit(X_train_segmented, Y_train_segmented)\n",
    "\n",
    "#Predict the response for test dataset\n",
    "Y_pred = clf.predict(X_test_segmented)\n",
    "\n",
    "# Model Accuracy\n",
    "print(\"Accuracy:\",metrics.accuracy_score(Y_test_segmented, Y_pred))"
   ]
  },
  {
   "cell_type": "code",
   "execution_count": 78,
   "metadata": {},
   "outputs": [
    {
     "name": "stdout",
     "output_type": "stream",
     "text": [
      "Accuracy: 0.48148148148148145\n",
      "Parameters currently in use:\n",
      "\n",
      "{'bootstrap': True,\n",
      " 'ccp_alpha': 0.0,\n",
      " 'class_weight': None,\n",
      " 'criterion': 'gini',\n",
      " 'max_depth': 12,\n",
      " 'max_features': 'sqrt',\n",
      " 'max_leaf_nodes': None,\n",
      " 'max_samples': None,\n",
      " 'min_impurity_decrease': 0.0,\n",
      " 'min_impurity_split': None,\n",
      " 'min_samples_leaf': 1,\n",
      " 'min_samples_split': 2,\n",
      " 'min_weight_fraction_leaf': 0.0,\n",
      " 'n_estimators': 100,\n",
      " 'n_jobs': None,\n",
      " 'oob_score': False,\n",
      " 'random_state': 0,\n",
      " 'verbose': 0,\n",
      " 'warm_start': False}\n"
     ]
    }
   ],
   "source": [
    "from sklearn.ensemble import RandomForestClassifier\n",
    "\n",
    "clf = RandomForestClassifier(max_depth=12, n_estimators=100,random_state=0,max_features='sqrt')\n",
    "\n",
    "#Train the model using the training sets\n",
    "clf.fit(X_train_segmented, Y_train_segmented)\n",
    "\n",
    "#Predict the response for test dataset\n",
    "Y_pred = clf.predict(X_test_segmented)\n",
    "\n",
    "# Model Accuracy\n",
    "print(\"Accuracy:\",metrics.accuracy_score(Y_test_segmented, Y_pred))\n",
    "\n",
    "from pprint import pprint# Look at parameters used by our current forest\n",
    "print('Parameters currently in use:\\n')\n",
    "pprint(clf.get_params())"
   ]
  },
  {
   "cell_type": "code",
   "execution_count": 22,
   "metadata": {},
   "outputs": [
    {
     "data": {
      "text/plain": [
       "<sklearn.metrics._plot.confusion_matrix.ConfusionMatrixDisplay at 0x7fe6d7b1f910>"
      ]
     },
     "execution_count": 22,
     "metadata": {},
     "output_type": "execute_result"
    },
    {
     "data": {
      "image/png": "[encoded data removed]",
      "text/plain": [
       "<Figure size 432x288 with 2 Axes>"
      ]
     },
     "metadata": {
      "needs_background": "light"
     },
     "output_type": "display_data"
    }
   ],
   "source": [
    "plot_confusion_matrix(clf, X_test_segmented, Y_test_segmented)"
   ]
  },
  {
   "cell_type": "markdown",
   "metadata": {},
   "source": [
    "## Fit with data avereged along time axis of dimension (1,nbChannel)"
   ]
  },
  {
   "cell_type": "code",
   "execution_count": 28,
   "metadata": {},
   "outputs": [
    {
     "name": "stdout",
     "output_type": "stream",
     "text": [
      "Accuracy: 0.5231481481481481\n"
     ]
    }
   ],
   "source": [
    "#Create a svm Classifier\n",
    "clf = svm.SVC(kernel='rbf',gamma='scale') # Linear Kernel\n",
    "\n",
    "#Train the model using the training sets\n",
    "clf.fit(X_train_segmented_avereged, Y_train_segmented)\n",
    "\n",
    "#Predict the response for test dataset\n",
    "Y_pred = clf.predict(X_test_segmented_avereged)\n",
    "\n",
    "# Model Accuracy\n",
    "print(\"Accuracy:\",metrics.accuracy_score(Y_test_segmented, Y_pred))"
   ]
  },
  {
   "cell_type": "code",
   "execution_count": 75,
   "metadata": {},
   "outputs": [
    {
     "name": "stdout",
     "output_type": "stream",
     "text": [
      "Accuracy: 0.6435185185185185\n",
      "Parameters currently in use:\n",
      "\n",
      "{'bootstrap': True,\n",
      " 'ccp_alpha': 0.0,\n",
      " 'class_weight': None,\n",
      " 'criterion': 'gini',\n",
      " 'max_depth': 12,\n",
      " 'max_features': 'sqrt',\n",
      " 'max_leaf_nodes': None,\n",
      " 'max_samples': None,\n",
      " 'min_impurity_decrease': 0.0,\n",
      " 'min_impurity_split': None,\n",
      " 'min_samples_leaf': 1,\n",
      " 'min_samples_split': 2,\n",
      " 'min_weight_fraction_leaf': 0.0,\n",
      " 'n_estimators': 100,\n",
      " 'n_jobs': None,\n",
      " 'oob_score': False,\n",
      " 'random_state': 0,\n",
      " 'verbose': 0,\n",
      " 'warm_start': False}\n"
     ]
    }
   ],
   "source": [
    "from sklearn.ensemble import RandomForestClassifier\n",
    "\n",
    "clf = RandomForestClassifier(max_depth=12, n_estimators=100,random_state=0,max_features='sqrt')\n",
    "\n",
    "#Train the model using the training sets\n",
    "clf.fit(X_train_segmented_avereged, Y_train_segmented)\n",
    "\n",
    "#Predict the response for test dataset\n",
    "Y_pred = clf.predict(X_test_segmented_avereged)\n",
    "\n",
    "# Model Accuracy\n",
    "print(\"Accuracy:\",metrics.accuracy_score(Y_test_segmented, Y_pred))\n",
    "\n",
    "from pprint import pprint# Look at parameters used by our current forest\n",
    "print('Parameters currently in use:\\n')\n",
    "pprint(clf.get_params())"
   ]
  },
  {
   "cell_type": "code",
   "execution_count": 24,
   "metadata": {},
   "outputs": [
    {
     "data": {
      "text/plain": [
       "<sklearn.metrics._plot.confusion_matrix.ConfusionMatrixDisplay at 0x7fe636361fd0>"
      ]
     },
     "execution_count": 24,
     "metadata": {},
     "output_type": "execute_result"
    },
    {
     "data": {
      "image/png": "[encoded data removed]",
      "text/plain": [
       "<Figure size 432x288 with 2 Axes>"
      ]
     },
     "metadata": {
      "needs_background": "light"
     },
     "output_type": "display_data"
    }
   ],
   "source": [
    "plot_confusion_matrix(clf, X_test_segmented_avereged, Y_test_segmented)"
   ]
  },
  {
   "cell_type": "code",
   "execution_count": 74,
   "metadata": {},
   "outputs": [],
   "source": [
    "# from sklearn.model_selection import RandomizedSearchCV# Number of trees in random forest\n",
    "# n_estimators = [int(x) for x in np.linspace(start = 200, stop = 2000, num = 10)]\n",
    "# # Number of features to consider at every split\n",
    "# max_features = ['auto', 'sqrt']\n",
    "# # Maximum number of levels in tree\n",
    "# max_depth = [int(x) for x in np.linspace(10, 110, num = 11)]\n",
    "# max_depth.append(None)\n",
    "# # Minimum number of samples required to split a node\n",
    "# min_samples_split = [2, 5, 10]\n",
    "# # Minimum number of samples required at each leaf node\n",
    "# min_samples_leaf = [1, 2, 4]\n",
    "# # Method of selecting samples for training each tree\n",
    "# bootstrap = [True, False]# Create the random grid\n",
    "# random_grid = {'n_estimators': n_estimators,\n",
    "#                'max_features': max_features,\n",
    "#                'max_depth': max_depth,\n",
    "#                'min_samples_split': min_samples_split,\n",
    "#                'min_samples_leaf': min_samples_leaf,\n",
    "#                'bootstrap': bootstrap}\n",
    "# pprint(random_grid)"
   ]
  },
  {
   "cell_type": "code",
   "execution_count": 27,
   "metadata": {},
   "outputs": [
    {
     "data": {
      "text/plain": [
       "428"
      ]
     },
     "execution_count": 27,
     "metadata": {},
     "output_type": "execute_result"
    }
   ],
   "source": [
    "len(Y_train_segmented)"
   ]
  },
  {
   "cell_type": "markdown",
   "metadata": {},
   "source": [
    "# Fit a multi level perceptron based neural network (Non-spiking)"
   ]
  },
  {
   "cell_type": "code",
   "execution_count": 173,
   "metadata": {},
   "outputs": [],
   "source": [
    "# from keras.layers import Conv1D, Dense, Dropout, Input, Concatenate, GlobalMaxPooling1D\n",
    "# from keras.models import Model#this base model is one branch of the main model\n",
    "# #it takes a time series as an input, performs 1-D convolution, and returns it as an output ready for concatenationdef get_base_model(input_len, fsize):\n",
    "# #the input is a time series of length n and width 19\n",
    "# input_seq = Input(shape=(input_len, 19))\n",
    "# #choose the number of convolution filters\n",
    "# nb_filters = 10\n",
    "# #1-D convolution and global max-pooling\n",
    "# convolved = Conv1D(nb_filters, fsize, padding=\"same\", activation=\"tanh\")(input_seq)\n",
    "# processed = GlobalMaxPooling1D()(convolved)\n",
    "# #dense layer with dropout regularization\n",
    "# compressed = Dense(50, activation=\"tanh\")(processed)\n",
    "# compressed = Dropout(0.3)(compressed)\n",
    "# model = Model(inputs=input_seq, outputs=compressed)\n",
    "# return model#this is the main model\n",
    "# #it takes the original time series and its down-sampled versions as an input, and returns the result of classification as an outputdef main_model(inputs_lens = [512, 1024, 3480], fsizes = [8,16,24]):\n",
    "# #the inputs to the branches are the original time series, and its down-sampled versions\n",
    "# input_smallseq = Input(shape=(inputs_lens[0], 19))\n",
    "# input_medseq = Input(shape=(inputs_lens[1] , 19))\n",
    "# input_origseq = Input(shape=(inputs_lens[2], 19))#the more down-sampled the time series, the shorter the corresponding filter\n",
    "# base_net_small = get_base_model(inputs_lens[0], fsizes[0])\n",
    "# base_net_med = get_base_model(inputs_lens[1], fsizes[1])\n",
    "# base_net_original = get_base_model(inputs_lens[2], fsizes[2])embedding_small = base_net_small(input_smallseq)\n",
    "# embedding_med = base_net_med(input_medseq)\n",
    "# embedding_original = base_net_original(input_origseq)#concatenate all the outputs\n",
    "# merged = Concatenate()([embedding_small, embedding_med, embedding_original])\n",
    "# out = Dense(1, activation='sigmoid')(merged)model = Model(inputs=[input_smallseq, input_medseq, input_origseq], outputs=out)\n",
    "# return model"
   ]
  },
  {
   "cell_type": "markdown",
   "metadata": {},
   "source": [
    "# TODO: https://www.kaggle.com/purplejester/pytorch-deep-time-series-classification"
   ]
  },
  {
   "cell_type": "markdown",
   "metadata": {},
   "source": [
    "# TODO: https://medium.com/@aungkyawmyint_26195/multi-layer-perceptron-mnist-pytorch-463f795b897a"
   ]
  },
  {
   "cell_type": "markdown",
   "metadata": {},
   "source": [
    "## Create a pytorch data loader"
   ]
  },
  {
   "cell_type": "code",
   "execution_count": 168,
   "metadata": {},
   "outputs": [],
   "source": [
    "device = 'cpu'\n",
    "cwd = str(os.getcwd())\n",
    "file_directory =cwd + '/recordings/'\n",
    "filename = '/EMG_dataset_OCET.npz'\n",
    "file_path = file_directory+filename\n",
    "\n",
    "class EMGDataset(Dataset):\n",
    "    \n",
    "    def __init__(self, file_path, train=True):    \n",
    "        data=np.load(file_path,allow_pickle=True )\n",
    "        X_EMG_Train = data['X_train_segmented_3D']\n",
    "        Y_EMG_Train = data['Y_train_segmented']\n",
    "        X_EMG_Test = data['X_test_segmented_3D']\n",
    "        Y_EMG_Test = data['Y_test_segmented']\n",
    "        if(train):                     \n",
    "            self.n_samples = Y_EMG_Train.shape[0]\n",
    "            self.features = torch.from_numpy(X_EMG_Train).float()\n",
    "            self.labels = torch.from_numpy(Y_EMG_Train).float()\n",
    "        else :\n",
    "            self.n_samples = Y_EMG_Test.shape[0]\n",
    "            self.features = torch.from_numpy((X_EMG_Test)) # size [n_samples, n_features]\n",
    "            self.labels = torch.from_numpy(Y_EMG_Test) # size [n_samples, 1]\n",
    "    def __getitem__(self, index):\n",
    "        if self.labels[index] == 0:\n",
    "            label = 0\n",
    "        elif self.labels[index] == 1:\n",
    "            label = 1\n",
    "        elif self.labels[index] == 2:\n",
    "            label = 2\n",
    "        return np.transpose(np.asarray(self.features[index, :]).astype(np.float)), label\n",
    "\n",
    "    # we can call len(dataset) to return the size\n",
    "    def __len__(self):\n",
    "        return self.n_samples\n",
    "\n",
    "dataset_train = EMGDataset(train=True, file_path=file_path)\n",
    "dataset_test = EMGDataset(train=False, file_path=file_path)\n",
    "\n",
    "train_loader = DataLoader(dataset=dataset_train,\n",
    "                          batch_size=1,\n",
    "                          shuffle=True,\n",
    "                          num_workers=0)\n",
    "test_loader = DataLoader(dataset=dataset_test,\n",
    "                          batch_size=1,\n",
    "                          shuffle=False,\n",
    "                          num_workers=0)"
   ]
  },
  {
   "cell_type": "markdown",
   "metadata": {},
   "source": [
    "## Define and test a 1D CNN"
   ]
  },
  {
   "cell_type": "code",
   "execution_count": 176,
   "metadata": {},
   "outputs": [],
   "source": [
    "# '''\n",
    "# Not working at the moment\n",
    "# '''\n",
    "# import torch\n",
    "# import torch.nn as nn\n",
    "# import torch.nn.functional as F\n",
    "# import torch.optim as optim\n",
    "# from torch.autograd import Variable\n",
    "\n",
    "\n",
    "# class Net(nn.Module):\n",
    "#     def __init__(self):\n",
    "#         super(Net, self).__init__()\n",
    "        \n",
    "#     model = Sequential()\n",
    "#     model.add(Conv1D(filters=64, kernel_size=3, activation='relu', input_shape=(6000,21)))\n",
    "#     model.add(Conv1D(filters=64, kernel_size=3, activation='relu'))\n",
    "#     model.add(Dropout(0.5))\n",
    "#     model.add(MaxPooling1D(pool_size=2))\n",
    "#     model.add(Flatten())\n",
    "#     model.add(Dense(100, activation='relu'))\n",
    "#     model.add(Dense(3, activation='softmax'))\n",
    "\n",
    "    \n",
    "\n",
    "#     def forward(self, input):\n",
    "#         x = self.cnn_layers(input)\n",
    "#         x = x.view(x.size(0), -1)\n",
    "#         x = self.linear_layers(x)\n",
    "#         return x\n",
    "    \n",
    "    \n",
    "# def test(model, test_loader):\n",
    "#     correct = 0\n",
    "#     for batch_idx, (data, target) in enumerate(test_loader):\n",
    "#         data = data.float()\n",
    "#         output = model(data.to(device))\n",
    "#         pred = output.data.max(1)[1]\n",
    "#         correct += pred.eq(target.to(device).data.view_as(pred)).cpu().sum()\n",
    "\n",
    "#     return 100. * float(correct) / float(len(test_loader.dataset))\n",
    "\n",
    "# # device = torch.device('cpu' if 'cpu' in memtorch.__version__ else 'cuda')\n",
    "# device = 'cpu'\n",
    "# epochs = 100\n",
    "# model = Net().to(device)\n",
    "# criterion = nn.CrossEntropyLoss()\n",
    "# learning_rate = 1e-2\n",
    "# optimizer = optim.Adam(model.parameters(), lr=learning_rate)\n",
    "# best_accuracy = 0\n",
    "# for epoch in range(0, epochs):\n",
    "#     print('Epoch: [%d]\\t\\t' % (epoch + 1), end='')\n",
    "#     if epoch % 10 == 0:\n",
    "#         learning_rate = learning_rate * 0.5\n",
    "#         for param_group in optimizer.param_groups:\n",
    "#             param_group['lr'] = learning_rate\n",
    "\n",
    "#     model.train()\n",
    "#     for batch_idx, (data, target) in enumerate(train_loader):\n",
    "#         optimizer.zero_grad()\n",
    "#         data = data.float()\n",
    "#         output = model(data.to(device))\n",
    "#         loss = criterion(output, target.to(device))\n",
    "#         loss.backward()\n",
    "#         optimizer.step()\n",
    "\n",
    "#     accuracy = test(model, test_loader)\n",
    "#     print('%2.2f%%' % accuracy)\n",
    "#     if accuracy > best_accuracy:\n",
    "#         torch.save(model.state_dict(), 'trained_model.pt')\n",
    "#         best_accuracy = accuracy"
   ]
  },
  {
   "cell_type": "markdown",
   "metadata": {},
   "source": [
    "# Train a SNN (Perceptron & MLP)\n",
    "### With brian2. \n",
    "### from brian2 import TimedArray\n",
    "\n",
    "Feed from nbChannels to a layer of neurons of size (~nBchannels*5). Readout the activity through a softmax layer of perceptrons or SVM/LDA"
   ]
  },
  {
   "cell_type": "code",
   "execution_count": null,
   "metadata": {},
   "outputs": [],
   "source": [
    "# "
   ]
  },
  {
   "cell_type": "markdown",
   "metadata": {},
   "source": [
    "# Train an MLP (non-spiking with backprop)"
   ]
  },
  {
   "cell_type": "code",
   "execution_count": null,
   "metadata": {},
   "outputs": [],
   "source": []
  }
 ],
 "metadata": {
  "kernelspec": {
   "display_name": "Python 3",
   "language": "python",
   "name": "python3"
  },
  "language_info": {
   "codemirror_mode": {
    "name": "ipython",
    "version": 3
   },
   "file_extension": ".py",
   "mimetype": "text/x-python",
   "name": "python",
   "nbconvert_exporter": "python",
   "pygments_lexer": "ipython3",
   "version": "3.8.3"
  }
 },
 "nbformat": 4,
 "nbformat_minor": 4
}
