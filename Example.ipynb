{
 "cells": [
  {
   "cell_type": "code",
   "execution_count": 76,
   "metadata": {},
   "outputs": [],
   "source": [
    "import numpy as np\n",
    "import pandas as pd\n",
    "import os"
   ]
  },
  {
   "cell_type": "code",
   "execution_count": 77,
   "metadata": {},
   "outputs": [],
   "source": [
    "cwd = str(os.getcwd()) #Get the current working directory\n",
    "path_of_recordings = cwd + '/recordings/' #Path where all the recordings are stored\n",
    "raw_labels = np.genfromtxt(os.path.join(cwd, 'filename_and_label.txt'), dtype=np.str)#Load the file containing label corresponding to file name"
   ]
  },
  {
   "cell_type": "code",
   "execution_count": 78,
   "metadata": {},
   "outputs": [
    {
     "name": "stdout",
     "output_type": "stream",
     "text": [
      "/Users/Anonymous/Desktop/OCET/recordings/recording_file_a.txt\n"
     ]
    }
   ],
   "source": [
    "X = [] #X is a list with each element a recording\n",
    "Y = [] #Y is a list with each element being label of that recording\n",
    "for r, d, f in os.walk(path_of_recordings):\n",
    "    for file in f:\n",
    "        if file.endswith(\".txt\"): #To avoid any other file than '.txt'\n",
    "            path_of_file = os.path.join(r, file)\n",
    "            print(path_of_file)#Print the global path of each loaded file\n",
    "            raw_data = np.loadtxt(path_of_file)#Load the raw data\n",
    "            X.append(raw_data)#Append the loaded array to the list\n",
    "            index = np.where(raw_labels[0,:]==file)#Find the label corresponding to loaded file\n",
    "            Y.append(int(raw_labels[index][:,1]))#Append the label"
   ]
  },
  {
   "cell_type": "code",
   "execution_count": 79,
   "metadata": {},
   "outputs": [
    {
     "name": "stdout",
     "output_type": "stream",
     "text": [
      "(27000,)\n",
      "(30, 27000)\n",
      "0\n"
     ]
    }
   ],
   "source": [
    "sample_data = X[0]#Load the first element of list\n",
    "time_stamp = sample_data[0,:]#Slice off the time stamps\n",
    "data = sample_data[1:,:]#Slice the data\n",
    "print(time_stamp.shape)\n",
    "print(data.shape)\n",
    "print(Y[0])"
   ]
  },
  {
   "cell_type": "code",
   "execution_count": null,
   "metadata": {},
   "outputs": [],
   "source": []
  },
  {
   "cell_type": "code",
   "execution_count": null,
   "metadata": {},
   "outputs": [],
   "source": []
  }
 ],
 "metadata": {
  "kernelspec": {
   "display_name": "Python 3",
   "language": "python",
   "name": "python3"
  },
  "language_info": {
   "codemirror_mode": {
    "name": "ipython",
    "version": 3
   },
   "file_extension": ".py",
   "mimetype": "text/x-python",
   "name": "python",
   "nbconvert_exporter": "python",
   "pygments_lexer": "ipython3",
   "version": "3.8.3"
  }
 },
 "nbformat": 4,
 "nbformat_minor": 4
}
