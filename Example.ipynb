{
 "cells": [
  {
   "cell_type": "markdown",
   "metadata": {},
   "source": [
    "# Import the libraries"
   ]
  },
  {
   "cell_type": "code",
   "execution_count": 157,
   "metadata": {},
   "outputs": [],
   "source": [
    "import numpy as np\n",
    "import pandas as pd\n",
    "import os\n",
    "import matplotlib.pyplot as plt\n",
    "from sklearn.model_selection import train_test_split\n",
    "from sklearn import svm\n",
    "from sklearn import metrics\n",
    "from sklearn.metrics import plot_confusion_matrix\n",
    "# from brian2 import TimedArray\n",
    "#Libraries for ANN\n",
    "import os\n",
    "import sys\n",
    "import numpy as np\n",
    "import math\n",
    "import torch\n",
    "import torch.nn as nn\n",
    "import torch.nn.functional as F\n",
    "import torch.optim as optim\n",
    "import torch.utils.data as data_utils\n",
    "import torch.nn.init as init\n",
    "from torch.utils.data import Dataset, DataLoader\n",
    "import torchvision\n",
    "from torch.nn import Linear, ReLU, CrossEntropyLoss, Sequential, Conv2d,Conv1d,MaxPool1d, MaxPool2d, Module, Softmax, BatchNorm2d, Dropout\n",
    "from torch.autograd import Variable\n",
    "import matplotlib.pyplot as plt\n",
    "import scipy as sc\n",
    "from scipy.signal import butter, lfilter, welch, square  #for signal filtering\n",
    "import pandas as pd\n",
    "import neo\n",
    "from scipy.spatial import distance\n",
    "from sklearn import preprocessing\n",
    "import torch.optim as optim"
   ]
  },
  {
   "cell_type": "markdown",
   "metadata": {},
   "source": [
    "# Load the data"
   ]
  },
  {
   "cell_type": "code",
   "execution_count": 93,
   "metadata": {},
   "outputs": [],
   "source": [
    "cwd = str(os.getcwd()) #Get the current working directory\n",
    "path_of_recordings = cwd + '/recordings/' #Path where all the recordings are stored\n",
    "raw_labels = np.genfromtxt(os.path.join(path_of_recordings, 'filename_and_labels.txt'), dtype=np.str)#Load the file containing label corresponding to file name\n",
    "\n",
    "\n",
    "X = [] #X is a list with each element a recording\n",
    "Y = [] #Y is a list with each element being label of that recording\n",
    "\n",
    "indexes = np.array((0,1, 2, 3, 5, 7,8, 10, 11, 14, 15, 16, 17,18, 19, 20, 22, 23, 24, 25, 29, 30 ))\n",
    "#I have added 0 as it's time stamp\n",
    "\n",
    "for i in range(raw_labels.shape[0]):\n",
    "    file_name = raw_labels[i,0]\n",
    "    label = raw_labels[i,1]\n",
    "    path_of_file = os.path.join(path_of_recordings, file_name)\n",
    "    raw_data = np.loadtxt(path_of_file)#Load the raw data\n",
    "    X.append(raw_data[indexes,1500:25500])#Append the loaded array to the list. Note that we just take selected indexes\n",
    "    #[300:2400] : Because we trim 50ms from start and end\n",
    "    Y.append(int(label))#Append the label"
   ]
  },
  {
   "cell_type": "markdown",
   "metadata": {},
   "source": [
    "# Plot a sample segment"
   ]
  },
  {
   "cell_type": "code",
   "execution_count": 94,
   "metadata": {},
   "outputs": [
    {
     "name": "stdout",
     "output_type": "stream",
     "text": [
      "(24000,)\n",
      "(21, 24000)\n"
     ]
    },
    {
     "data": {
      "text/plain": [
       "[<matplotlib.lines.Line2D at 0x7fc5b6b62610>]"
      ]
     },
     "execution_count": 94,
     "metadata": {},
     "output_type": "execute_result"
    },
    {
     "data": {
      "image/png": "[encoded data removed]",
      "text/plain": [
       "<Figure size 432x288 with 1 Axes>"
      ]
     },
     "metadata": {
      "needs_background": "light"
     },
     "output_type": "display_data"
    }
   ],
   "source": [
    "sample_data = X[0]#Load the first element of list\n",
    "time_stamp = sample_data[0,:]#Slice off the time stamps\n",
    "data = sample_data[1:,:]#Slice the data\n",
    "print(time_stamp.shape)\n",
    "print(data.shape)\n",
    "sample_segment = data[1,:]\n",
    "plt.plot(time_stamp, sample_segment)"
   ]
  },
  {
   "cell_type": "markdown",
   "metadata": {},
   "source": [
    "# Split the data into train and test "
   ]
  },
  {
   "cell_type": "code",
   "execution_count": 113,
   "metadata": {},
   "outputs": [],
   "source": [
    "X_train, X_test, Y_train, Y_test = train_test_split(X, Y,\n",
    "                                                    stratify=Y, \n",
    "                                                    test_size=0.33)\n",
    "#We use stratification to preserve class balance in train and test"
   ]
  },
  {
   "cell_type": "markdown",
   "metadata": {},
   "source": [
    "# Slice the data in segments of 200ms.\n",
    "### We now also drop the time stamp as that's not useful for classification"
   ]
  },
  {
   "cell_type": "code",
   "execution_count": 167,
   "metadata": {},
   "outputs": [],
   "source": [
    "X_train_segmented = []\n",
    "Y_train_segmented = []\n",
    "X_train_segmented_avereged = []\n",
    "X_train_segmented_3D = []\n",
    "\n",
    "\n",
    "for i in range(len(Y_train)):\n",
    "    data = X_train[i]\n",
    "    data = data[1:,:]#Drop the time stamps\n",
    "    #24000 time points corresponds to 800 ms. Hence, 6000 time points corresponds to 200 ms\n",
    "    for j in range(4):\n",
    "        #The 2D X_train_segmented is flatten to 1D. Final shape being (1,nbChannel*nbTimepoints)\n",
    "        X_train_segmented.append(data[:,j*6000:(j+1)*6000].flatten())\n",
    "        \n",
    "        #The 2D X_train_segmented is avereged along time axis. Final shape being (1,nbChannel)\n",
    "        X_train_segmented_avereged.append(np.mean(data[:,j*6000:(j+1)*6000], axis =1))\n",
    "        Y_train_segmented.append(Y_train[i])\n",
    "        #X_train_segmented_3D is the 3D version of form (1, nbChannels, nbTimepoints)\n",
    "        X_train_segmented_3D.append(data[:,j*6000:(j+1)*6000])\n",
    "        \n",
    "X_test_segmented = []\n",
    "Y_test_segmented = []\n",
    "X_test_segmented_avereged = []\n",
    "X_test_segmented_3D = []\n",
    "\n",
    "for i in range(len(Y_test)):\n",
    "    data = X_test[i]\n",
    "    data = data[1:,:]#Drop the time stamps\n",
    "    #24000 time points corresponds to 800 ms. Hence, 6000 time points corresponds to 200 ms\n",
    "    for j in range(4):\n",
    "        X_test_segmented.append(data[:,j*6000:(j+1)*6000].flatten())\n",
    "        X_test_segmented_avereged.append(np.mean(data[:,j*6000:(j+1)*6000], axis =1))\n",
    "        Y_test_segmented.append(Y_test[i])\n",
    "        X_test_segmented_3D.append(data[:,j*6000:(j+1)*6000])\n",
    "\n",
    "#Save the data for future use\n",
    "cwd = str(os.getcwd())\n",
    "file_directory =cwd + '/recordings/'\n",
    "filename = '/EMG_dataset_OCET.npz'\n",
    "file_path = file_directory+filename\n",
    "np.savez_compressed(file_path, \n",
    "                    X_train_segmented=X_train_segmented,\n",
    "                    Y_train_segmented=Y_train_segmented,\n",
    "                    X_train_segmented_avereged=X_train_segmented_avereged,\n",
    "                    X_test_segmented = X_test_segmented,\n",
    "                    Y_test_segmented = Y_test_segmented,\n",
    "                    X_test_segmented_avereged=X_test_segmented_avereged,\n",
    "                    X_train_segmented_3D=X_train_segmented_3D,\n",
    "                    X_test_segmented_3D=X_test_segmented_3D\n",
    "                   )\n"
   ]
  },
  {
   "cell_type": "markdown",
   "metadata": {},
   "source": [
    "# Fit a classifier and evaluate performance"
   ]
  },
  {
   "cell_type": "markdown",
   "metadata": {},
   "source": [
    "## Fit with entire data of dimension (1,nbChannel*nbTimepoints)"
   ]
  },
  {
   "cell_type": "code",
   "execution_count": 152,
   "metadata": {},
   "outputs": [
    {
     "name": "stdout",
     "output_type": "stream",
     "text": [
      "Accuracy: 0.4166666666666667\n"
     ]
    }
   ],
   "source": [
    "#Create a svm Classifier\n",
    "clf = svm.SVC(kernel='rbf') # Linear Kernel\n",
    "\n",
    "#Train the model using the training sets\n",
    "clf.fit(X_train_segmented, Y_train_segmented)\n",
    "\n",
    "#Predict the response for test dataset\n",
    "Y_pred = clf.predict(X_test_segmented)\n",
    "\n",
    "# Model Accuracy\n",
    "print(\"Accuracy:\",metrics.accuracy_score(Y_test_segmented, Y_pred))"
   ]
  },
  {
   "cell_type": "code",
   "execution_count": 153,
   "metadata": {},
   "outputs": [
    {
     "data": {
      "text/plain": [
       "<sklearn.metrics._plot.confusion_matrix.ConfusionMatrixDisplay at 0x7fc5b56aeb50>"
      ]
     },
     "execution_count": 153,
     "metadata": {},
     "output_type": "execute_result"
    },
    {
     "data": {
      "image/png": "[encoded data removed]",
      "text/plain": [
       "<Figure size 432x288 with 2 Axes>"
      ]
     },
     "metadata": {
      "needs_background": "light"
     },
     "output_type": "display_data"
    }
   ],
   "source": [
    "plot_confusion_matrix(clf, X_test_segmented, Y_test_segmented)"
   ]
  },
  {
   "cell_type": "markdown",
   "metadata": {},
   "source": [
    "## Fit with data avereged along time axis of dimension (1,nbChannel)"
   ]
  },
  {
   "cell_type": "code",
   "execution_count": 147,
   "metadata": {},
   "outputs": [
    {
     "name": "stdout",
     "output_type": "stream",
     "text": [
      "Accuracy: 0.6666666666666666\n"
     ]
    }
   ],
   "source": [
    "#Create a svm Classifier\n",
    "clf = svm.SVC(kernel='rbf') # Linear Kernel\n",
    "\n",
    "#Train the model using the training sets\n",
    "clf.fit(X_train_segmented_avereged, Y_train_segmented)\n",
    "\n",
    "#Predict the response for test dataset\n",
    "Y_pred = clf.predict(X_test_segmented_avereged)\n",
    "\n",
    "# Model Accuracy\n",
    "print(\"Accuracy:\",metrics.accuracy_score(Y_test_segmented, Y_pred))"
   ]
  },
  {
   "cell_type": "code",
   "execution_count": 151,
   "metadata": {},
   "outputs": [
    {
     "data": {
      "text/plain": [
       "<sklearn.metrics._plot.confusion_matrix.ConfusionMatrixDisplay at 0x7fc5caa9be80>"
      ]
     },
     "execution_count": 151,
     "metadata": {},
     "output_type": "execute_result"
    },
    {
     "data": {
      "image/png": "[encoded data removed]",
      "text/plain": [
       "<Figure size 432x288 with 2 Axes>"
      ]
     },
     "metadata": {
      "needs_background": "light"
     },
     "output_type": "display_data"
    }
   ],
   "source": [
    "plot_confusion_matrix(clf, X_test_segmented_avereged, Y_test_segmented)"
   ]
  },
  {
   "cell_type": "markdown",
   "metadata": {},
   "source": [
    "# Fit a multi level perceptron based neural network (Non-spiking)"
   ]
  },
  {
   "cell_type": "code",
   "execution_count": 173,
   "metadata": {},
   "outputs": [],
   "source": [
    "# from keras.layers import Conv1D, Dense, Dropout, Input, Concatenate, GlobalMaxPooling1D\n",
    "# from keras.models import Model#this base model is one branch of the main model\n",
    "# #it takes a time series as an input, performs 1-D convolution, and returns it as an output ready for concatenationdef get_base_model(input_len, fsize):\n",
    "# #the input is a time series of length n and width 19\n",
    "# input_seq = Input(shape=(input_len, 19))\n",
    "# #choose the number of convolution filters\n",
    "# nb_filters = 10\n",
    "# #1-D convolution and global max-pooling\n",
    "# convolved = Conv1D(nb_filters, fsize, padding=\"same\", activation=\"tanh\")(input_seq)\n",
    "# processed = GlobalMaxPooling1D()(convolved)\n",
    "# #dense layer with dropout regularization\n",
    "# compressed = Dense(50, activation=\"tanh\")(processed)\n",
    "# compressed = Dropout(0.3)(compressed)\n",
    "# model = Model(inputs=input_seq, outputs=compressed)\n",
    "# return model#this is the main model\n",
    "# #it takes the original time series and its down-sampled versions as an input, and returns the result of classification as an outputdef main_model(inputs_lens = [512, 1024, 3480], fsizes = [8,16,24]):\n",
    "# #the inputs to the branches are the original time series, and its down-sampled versions\n",
    "# input_smallseq = Input(shape=(inputs_lens[0], 19))\n",
    "# input_medseq = Input(shape=(inputs_lens[1] , 19))\n",
    "# input_origseq = Input(shape=(inputs_lens[2], 19))#the more down-sampled the time series, the shorter the corresponding filter\n",
    "# base_net_small = get_base_model(inputs_lens[0], fsizes[0])\n",
    "# base_net_med = get_base_model(inputs_lens[1], fsizes[1])\n",
    "# base_net_original = get_base_model(inputs_lens[2], fsizes[2])embedding_small = base_net_small(input_smallseq)\n",
    "# embedding_med = base_net_med(input_medseq)\n",
    "# embedding_original = base_net_original(input_origseq)#concatenate all the outputs\n",
    "# merged = Concatenate()([embedding_small, embedding_med, embedding_original])\n",
    "# out = Dense(1, activation='sigmoid')(merged)model = Model(inputs=[input_smallseq, input_medseq, input_origseq], outputs=out)\n",
    "# return model"
   ]
  },
  {
   "cell_type": "markdown",
   "metadata": {},
   "source": [
    "# TODO: https://www.kaggle.com/purplejester/pytorch-deep-time-series-classification"
   ]
  },
  {
   "cell_type": "markdown",
   "metadata": {},
   "source": [
    "# TODO: https://medium.com/@aungkyawmyint_26195/multi-layer-perceptron-mnist-pytorch-463f795b897a"
   ]
  },
  {
   "cell_type": "markdown",
   "metadata": {},
   "source": [
    "## Create a pytorch data loader"
   ]
  },
  {
   "cell_type": "code",
   "execution_count": 168,
   "metadata": {},
   "outputs": [],
   "source": [
    "device = 'cpu'\n",
    "cwd = str(os.getcwd())\n",
    "file_directory =cwd + '/recordings/'\n",
    "filename = '/EMG_dataset_OCET.npz'\n",
    "file_path = file_directory+filename\n",
    "\n",
    "class EMGDataset(Dataset):\n",
    "    \n",
    "    def __init__(self, file_path, train=True):    \n",
    "        data=np.load(file_path,allow_pickle=True )\n",
    "        X_EMG_Train = data['X_train_segmented_3D']\n",
    "        Y_EMG_Train = data['Y_train_segmented']\n",
    "        X_EMG_Test = data['X_test_segmented_3D']\n",
    "        Y_EMG_Test = data['Y_test_segmented']\n",
    "        if(train):                     \n",
    "            self.n_samples = Y_EMG_Train.shape[0]\n",
    "            self.features = torch.from_numpy(X_EMG_Train).float()\n",
    "            self.labels = torch.from_numpy(Y_EMG_Train).float()\n",
    "        else :\n",
    "            self.n_samples = Y_EMG_Test.shape[0]\n",
    "            self.features = torch.from_numpy((X_EMG_Test)) # size [n_samples, n_features]\n",
    "            self.labels = torch.from_numpy(Y_EMG_Test) # size [n_samples, 1]\n",
    "    def __getitem__(self, index):\n",
    "        if self.labels[index] == 0:\n",
    "            label = 0\n",
    "        elif self.labels[index] == 1:\n",
    "            label = 1\n",
    "        elif self.labels[index] == 2:\n",
    "            label = 2\n",
    "        return np.transpose(np.asarray(self.features[index, :]).astype(np.float)), label\n",
    "\n",
    "    # we can call len(dataset) to return the size\n",
    "    def __len__(self):\n",
    "        return self.n_samples\n",
    "\n",
    "dataset_train = EMGDataset(train=True, file_path=file_path)\n",
    "dataset_test = EMGDataset(train=False, file_path=file_path)\n",
    "\n",
    "train_loader = DataLoader(dataset=dataset_train,\n",
    "                          batch_size=1,\n",
    "                          shuffle=True,\n",
    "                          num_workers=0)\n",
    "test_loader = DataLoader(dataset=dataset_test,\n",
    "                          batch_size=1,\n",
    "                          shuffle=False,\n",
    "                          num_workers=0)"
   ]
  },
  {
   "cell_type": "markdown",
   "metadata": {},
   "source": [
    "## Define and test an ANN"
   ]
  },
  {
   "cell_type": "code",
   "execution_count": 176,
   "metadata": {},
   "outputs": [],
   "source": [
    "# '''\n",
    "# Not working at the moment\n",
    "# '''\n",
    "# import torch\n",
    "# import torch.nn as nn\n",
    "# import torch.nn.functional as F\n",
    "# import torch.optim as optim\n",
    "# from torch.autograd import Variable\n",
    "\n",
    "\n",
    "# class Net(nn.Module):\n",
    "#     def __init__(self):\n",
    "#         super(Net, self).__init__()\n",
    "        \n",
    "#     model = Sequential()\n",
    "#     model.add(Conv1D(filters=64, kernel_size=3, activation='relu', input_shape=(6000,21)))\n",
    "#     model.add(Conv1D(filters=64, kernel_size=3, activation='relu'))\n",
    "#     model.add(Dropout(0.5))\n",
    "#     model.add(MaxPooling1D(pool_size=2))\n",
    "#     model.add(Flatten())\n",
    "#     model.add(Dense(100, activation='relu'))\n",
    "#     model.add(Dense(3, activation='softmax'))\n",
    "\n",
    "    \n",
    "\n",
    "#     def forward(self, input):\n",
    "#         x = self.cnn_layers(input)\n",
    "#         x = x.view(x.size(0), -1)\n",
    "#         x = self.linear_layers(x)\n",
    "#         return x\n",
    "    \n",
    "    \n",
    "# def test(model, test_loader):\n",
    "#     correct = 0\n",
    "#     for batch_idx, (data, target) in enumerate(test_loader):\n",
    "#         data = data.float()\n",
    "#         output = model(data.to(device))\n",
    "#         pred = output.data.max(1)[1]\n",
    "#         correct += pred.eq(target.to(device).data.view_as(pred)).cpu().sum()\n",
    "\n",
    "#     return 100. * float(correct) / float(len(test_loader.dataset))\n",
    "\n",
    "# # device = torch.device('cpu' if 'cpu' in memtorch.__version__ else 'cuda')\n",
    "# device = 'cpu'\n",
    "# epochs = 100\n",
    "# model = Net().to(device)\n",
    "# criterion = nn.CrossEntropyLoss()\n",
    "# learning_rate = 1e-2\n",
    "# optimizer = optim.Adam(model.parameters(), lr=learning_rate)\n",
    "# best_accuracy = 0\n",
    "# for epoch in range(0, epochs):\n",
    "#     print('Epoch: [%d]\\t\\t' % (epoch + 1), end='')\n",
    "#     if epoch % 10 == 0:\n",
    "#         learning_rate = learning_rate * 0.5\n",
    "#         for param_group in optimizer.param_groups:\n",
    "#             param_group['lr'] = learning_rate\n",
    "\n",
    "#     model.train()\n",
    "#     for batch_idx, (data, target) in enumerate(train_loader):\n",
    "#         optimizer.zero_grad()\n",
    "#         data = data.float()\n",
    "#         output = model(data.to(device))\n",
    "#         loss = criterion(output, target.to(device))\n",
    "#         loss.backward()\n",
    "#         optimizer.step()\n",
    "\n",
    "#     accuracy = test(model, test_loader)\n",
    "#     print('%2.2f%%' % accuracy)\n",
    "#     if accuracy > best_accuracy:\n",
    "#         torch.save(model.state_dict(), 'trained_model.pt')\n",
    "#         best_accuracy = accuracy"
   ]
  },
  {
   "cell_type": "markdown",
   "metadata": {},
   "source": [
    "# Train a SNN (Perceptron & MLP)\n",
    "### With brian2. \n",
    "### from brian2 import TimedArray\n",
    "\n",
    "Feed from nbChannels to a layer of neurons of size (~nBchannels*5). Readout the activity through a softmax layer of perceptrons or SVM/LDA"
   ]
  },
  {
   "cell_type": "code",
   "execution_count": null,
   "metadata": {},
   "outputs": [],
   "source": [
    "# "
   ]
  }
 ],
 "metadata": {
  "kernelspec": {
   "display_name": "Python 3",
   "language": "python",
   "name": "python3"
  },
  "language_info": {
   "codemirror_mode": {
    "name": "ipython",
    "version": 3
   },
   "file_extension": ".py",
   "mimetype": "text/x-python",
   "name": "python",
   "nbconvert_exporter": "python",
   "pygments_lexer": "ipython3",
   "version": "3.8.3"
  }
 },
 "nbformat": 4,
 "nbformat_minor": 4
}
