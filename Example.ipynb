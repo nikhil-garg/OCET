{
 "cells": [
  {
   "cell_type": "code",
   "execution_count": 33,
   "metadata": {},
   "outputs": [],
   "source": [
    "import numpy as np\n",
    "import pandas as pd\n",
    "import os\n",
    "# from brian2 import TimedArray"
   ]
  },
  {
   "cell_type": "code",
   "execution_count": 34,
   "metadata": {},
   "outputs": [],
   "source": [
    "cwd = str(os.getcwd()) #Get the current working directory\n",
    "path_of_recordings = cwd + '/recordings/' #Path where all the recordings are stored\n",
    "raw_labels = np.genfromtxt(os.path.join(path_of_recordings, 'filename_and_labels.txt'), dtype=np.str)#Load the file containing label corresponding to file name"
   ]
  },
  {
   "cell_type": "code",
   "execution_count": 37,
   "metadata": {},
   "outputs": [],
   "source": [
    "X = [] #X is a list with each element a recording\n",
    "Y = [] #Y is a list with each element being label of that recording\n",
    "\n",
    "indexes = np.array((0,1, 2, 3, 5, 7,8, 10, 11, 14, 15, 16, 17,18, 19, 20, 22, 23, 24, 25, 29, 30 ))\n",
    "#I have added 0 as it's time stamp\n",
    "\n",
    "for i in range(raw_labels.shape[0]):\n",
    "    file_name = raw_labels[i,0]\n",
    "    label = raw_labels[i,1]\n",
    "    path_of_file = os.path.join(path_of_recordings, file_name)\n",
    "    raw_data = np.loadtxt(path_of_file)#Load the raw data\n",
    "    X.append(raw_data[indexes,:])#Append the loaded array to the list. Note that we just take selected indexes\n",
    "    Y.append(int(label))#Append the label"
   ]
  },
  {
   "cell_type": "code",
   "execution_count": 41,
   "metadata": {},
   "outputs": [
    {
     "name": "stdout",
     "output_type": "stream",
     "text": [
      "(27000,)\n",
      "(21, 27000)\n",
      "0\n"
     ]
    }
   ],
   "source": [
    "sample_data = X[0]#Load the first element of list\n",
    "time_stamp = sample_data[0,:]#Slice off the time stamps\n",
    "data = sample_data[1:,:]#Slice the data\n",
    "print(time_stamp.shape)\n",
    "print(data.shape)\n",
    "print(Y[0])"
   ]
  },
  {
   "cell_type": "code",
   "execution_count": null,
   "metadata": {},
   "outputs": [],
   "source": [
    "time"
   ]
  },
  {
   "cell_type": "code",
   "execution_count": 42,
   "metadata": {},
   "outputs": [],
   "source": [
    "dt = time_stamp[1]-time_stamp[0]\n",
    "# sample_segment = sample_data[0,:]"
   ]
  },
  {
   "cell_type": "code",
   "execution_count": 46,
   "metadata": {},
   "outputs": [
    {
     "data": {
      "text/plain": [
       "0.8999666666786652"
      ]
     },
     "execution_count": 46,
     "metadata": {},
     "output_type": "execute_result"
    }
   ],
   "source": [
    "time_stamp[-1]"
   ]
  },
  {
   "cell_type": "code",
   "execution_count": null,
   "metadata": {},
   "outputs": [],
   "source": []
  }
 ],
 "metadata": {
  "kernelspec": {
   "display_name": "Python 3",
   "language": "python",
   "name": "python3"
  },
  "language_info": {
   "codemirror_mode": {
    "name": "ipython",
    "version": 3
   },
   "file_extension": ".py",
   "mimetype": "text/x-python",
   "name": "python",
   "nbconvert_exporter": "python",
   "pygments_lexer": "ipython3",
   "version": "3.8.3"
  }
 },
 "nbformat": 4,
 "nbformat_minor": 4
}
